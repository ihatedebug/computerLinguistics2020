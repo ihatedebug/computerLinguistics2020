{
 "cells": [
  {
   "cell_type": "markdown",
   "metadata": {
    "colab_type": "text",
    "id": "VsPaxbW4WXWN"
   },
   "source": [
    "# HW 1- Logistic Regression\n",
    "- 수업시간에 다룬 Logistic Regression Notebook을 참고로 하여 Diabetes데이터를 가지고 Logistic Regression으로 학습하고 테스트하는 모델을 작성\n",
    "- 이 노트북 파일을 받아서 작성하고 화일명은 Hw1_학번 (예: Hw1_2020_12345, 반드시 하이픈대신 언더라인으로)으로 해서 etl에 탑재\n",
    "- 아래의 지시사항대로 하나 필요할 경우 cell을 더 첨가해서 자유롭게 할 수 있다.\n",
    "- 반드시 colab에서 실행되는지 확인 할 것.\n",
    "- Due: 4월 2일 수업시간전까지"
   ]
  },
  {
   "cell_type": "markdown",
   "metadata": {
    "colab_type": "text",
    "id": "0eVWDpDCWXWP"
   },
   "source": [
    "# Diabetes 데이터 셋의 구조(diabetes.csv)\n",
    "![%E1%84%89%E1%85%B3%E1%84%8F%E1%85%B3%E1%84%85%E1%85%B5%E1%86%AB%E1%84%89%E1%85%A3%E1%86%BA%202020-03-30%20%E1%84%8B%E1%85%A9%E1%84%8C%E1%85%A5%E1%86%AB%2011.15.10.png](attachment:%E1%84%89%E1%85%B3%E1%84%8F%E1%85%B3%E1%84%85%E1%85%B5%E1%86%AB%E1%84%89%E1%85%A3%E1%86%BA%202020-03-30%20%E1%84%8B%E1%85%A9%E1%84%8C%E1%85%A5%E1%86%AB%2011.15.10.png)\n",
    "\n",
    "- 8개의 자질과 맨 마지막 칼럼은 당뇨인지 아닌지, 0, 1로 되어 있음\n",
    "- 총 768개의 행으로 되어 있음\n",
    "- 읽을때 650개를 training 데이터로, 나머지를 test 데이터로 할 것"
   ]
  },
  {
   "cell_type": "code",
   "execution_count": 4,
   "metadata": {
    "colab": {},
    "colab_type": "code",
    "id": "Bm2JunOzWXWP"
   },
   "outputs": [],
   "source": [
    "import torch\n",
    "import torch.nn as nn\n",
    "import torch.nn.functional as F\n",
    "\n",
    "import pandas as pd\n"
   ]
  },
  {
   "cell_type": "markdown",
   "metadata": {
    "colab_type": "text",
    "id": "G0XEEOSsWXWS"
   },
   "source": [
    "## Step 1: Loading Diabetes Dataset\n",
    "- 데이터 파일 읽어와서 train_x, train_y(정답), test_x, test_y(정답)로 구분함"
   ]
  },
  {
   "cell_type": "code",
   "execution_count": 5,
   "metadata": {
    "colab": {},
    "colab_type": "code",
    "id": "JRbSzKbdWXWS"
   },
   "outputs": [],
   "source": [
    "diabetesDF = pd.read_csv('diabetes.csv')\n",
    "\n",
    "train_x = torch.Tensor(diabetesDF.drop('Outcome',1)[:650].astype(float).values)\n",
    "train_y = torch.Tensor(diabetesDF['Outcome'][:650].astype(float).values)\n",
    "test_x = torch.Tensor(diabetesDF.drop('Outcome',1)[650:].astype(float).values)\n",
    "test_y = torch.Tensor(diabetesDF['Outcome'][650:].astype(float).values)"
   ]
  },
  {
   "cell_type": "code",
   "execution_count": 6,
   "metadata": {
    "colab": {
     "base_uri": "https://localhost:8080/",
     "height": 493
    },
    "colab_type": "code",
    "executionInfo": {
     "elapsed": 3356,
     "status": "ok",
     "timestamp": 1586174212093,
     "user": {
      "displayName": "­김종호 / 학생 / 자유전공학부",
      "photoUrl": "",
      "userId": "12944700398412949033"
     },
     "user_tz": -540
    },
    "id": "my7sfIDPWXWU",
    "outputId": "132740f3-21eb-4e3e-a934-713fbc71a3dc"
   },
   "outputs": [],
   "source": [
    "# 정답은 0, 1로 되어 있어 float -> int로 \n",
    "train_y = train_y.type(torch.int64)\n",
    "test_y = test_y.type(torch.int64)"
   ]
  },
  {
   "cell_type": "markdown",
   "metadata": {
    "colab_type": "text",
    "id": "tzNEahqyWXWW"
   },
   "source": [
    "## STEP 2: MAKING DATASET ITERABLE"
   ]
  },
  {
   "cell_type": "code",
   "execution_count": 7,
   "metadata": {
    "colab": {},
    "colab_type": "code",
    "id": "ONHEvIR4WXWX"
   },
   "outputs": [],
   "source": [
    "import torch.utils.data"
   ]
  },
  {
   "cell_type": "code",
   "execution_count": 8,
   "metadata": {
    "colab": {},
    "colab_type": "code",
    "id": "SJAjnKhHWXWZ"
   },
   "outputs": [],
   "source": [
    "# train_x, train_y를 텐서데이터 셋으로 변환\n",
    "\n",
    "train_dataset = torch.utils.data.TensorDataset(train_x, train_y)\n",
    "test_dataset = torch.utils.data.TensorDataset(test_x, test_y)"
   ]
  },
  {
   "cell_type": "code",
   "execution_count": 11,
   "metadata": {
    "colab": {
     "base_uri": "https://localhost:8080/",
     "height": 34
    },
    "colab_type": "code",
    "executionInfo": {
     "elapsed": 2950,
     "status": "ok",
     "timestamp": 1586174212094,
     "user": {
      "displayName": "­김종호 / 학생 / 자유전공학부",
      "photoUrl": "",
      "userId": "12944700398412949033"
     },
     "user_tz": -540
    },
    "id": "cu4cfcN3WXWb",
    "outputId": "ec8e208f-f4e2-47fe-d7c7-821cfb0a0bb1"
   },
   "outputs": [
    {
     "data": {
      "text/plain": [
       "tensor(1)"
      ]
     },
     "execution_count": 11,
     "metadata": {},
     "output_type": "execute_result"
    }
   ],
   "source": [
    "train_y[0]"
   ]
  },
  {
   "cell_type": "code",
   "execution_count": 0,
   "metadata": {
    "colab": {},
    "colab_type": "code",
    "id": "19MwcyP8WXWd"
   },
   "outputs": [],
   "source": [
    "# Hyper-parameters \n",
    "\n",
    "batch_size = 10\n",
    "n_iters = 300\n",
    "num_epochs = n_iters / (len(train_dataset) / batch_size)\n",
    "num_epochs = int(num_epochs)\n"
   ]
  },
  {
   "cell_type": "code",
   "execution_count": 0,
   "metadata": {
    "colab": {},
    "colab_type": "code",
    "id": "icNEF58BWXWf"
   },
   "outputs": [],
   "source": [
    "# Data loader (input pipeline)\n",
    "train_loader = torch.utils.data.DataLoader(dataset=train_dataset, \n",
    "                                           batch_size=batch_size, \n",
    "                                           shuffle=True)"
   ]
  },
  {
   "cell_type": "code",
   "execution_count": 0,
   "metadata": {
    "colab": {},
    "colab_type": "code",
    "id": "Y5oTlxBdWXWh"
   },
   "outputs": [],
   "source": [
    "test_loader = torch.utils.data.DataLoader(dataset=test_dataset, \n",
    "                                           batch_size=batch_size, \n",
    "                                           shuffle=False)"
   ]
  },
  {
   "cell_type": "code",
   "execution_count": 10,
   "metadata": {
    "colab": {
     "base_uri": "https://localhost:8080/",
     "height": 34
    },
    "colab_type": "code",
    "executionInfo": {
     "elapsed": 2552,
     "status": "ok",
     "timestamp": 1586174212096,
     "user": {
      "displayName": "­김종호 / 학생 / 자유전공학부",
      "photoUrl": "",
      "userId": "12944700398412949033"
     },
     "user_tz": -540
    },
    "id": "uKLE-Ui7ejQm",
    "outputId": "3a5b6d73-c119-4a3e-f9ec-5c25bbf1d25a"
   },
   "outputs": [
    {
     "data": {
      "text/plain": [
       "True"
      ]
     },
     "execution_count": 10,
     "metadata": {
      "tags": []
     },
     "output_type": "execute_result"
    }
   ],
   "source": [
    "import collections\n",
    "isinstance(test_loader, collections.Iterable)"
   ]
  },
  {
   "cell_type": "markdown",
   "metadata": {
    "colab_type": "text",
    "id": "Lzqhlij6WXWi"
   },
   "source": [
    "## STEP 3: CREATE MODEL CLASS"
   ]
  },
  {
   "cell_type": "code",
   "execution_count": 0,
   "metadata": {
    "colab": {},
    "colab_type": "code",
    "id": "flncFdFiWXWj"
   },
   "outputs": [],
   "source": [
    "class LogisticRegressionModel(nn.Module):      #you have to define class\n",
    "    def __init__(self, input_dim, output_dim):\n",
    "        super(LogisticRegressionModel, self).__init__()\n",
    "        self.linear = nn.Linear(input_dim, output_dim)\n",
    "    def forward(self, x):\n",
    "        out = self.linear(x)\n",
    "        return out  "
   ]
  },
  {
   "cell_type": "markdown",
   "metadata": {
    "colab_type": "text",
    "id": "yX3br1d6WXWl"
   },
   "source": [
    "## STEP 4: INSTANTIATE MODEL CLASS"
   ]
  },
  {
   "cell_type": "code",
   "execution_count": 0,
   "metadata": {
    "colab": {},
    "colab_type": "code",
    "id": "GHpvWQ4xWXWm"
   },
   "outputs": [],
   "source": [
    "input_dim = 8  #You have to define based on the diabetes data\n",
    "output_dim = 2 #You have to define based on the diabetes data\n"
   ]
  },
  {
   "cell_type": "code",
   "execution_count": 2,
   "metadata": {
    "colab": {
     "base_uri": "https://localhost:8080/",
     "height": 34
    },
    "colab_type": "code",
    "executionInfo": {
     "elapsed": 2041,
     "status": "ok",
     "timestamp": 1586174212097,
     "user": {
      "displayName": "­김종호 / 학생 / 자유전공학부",
      "photoUrl": "",
      "userId": "12944700398412949033"
     },
     "user_tz": -540
    },
    "id": "hJHQyeLrfH9N",
    "outputId": "ae1b7637-21d2-45fa-da3b-6d8fade087ce"
   },
   "outputs": [
    {
     "ename": "NameError",
     "evalue": "name 'test_dataset' is not defined",
     "output_type": "error",
     "traceback": [
      "\u001b[0;31m---------------------------------------------------------------------------\u001b[0m",
      "\u001b[0;31mNameError\u001b[0m                                 Traceback (most recent call last)",
      "\u001b[0;32m<ipython-input-2-f4374d55d915>\u001b[0m in \u001b[0;36m<module>\u001b[0;34m\u001b[0m\n\u001b[0;32m----> 1\u001b[0;31m \u001b[0mlen\u001b[0m\u001b[0;34m(\u001b[0m\u001b[0mtest_dataset\u001b[0m\u001b[0;34m)\u001b[0m\u001b[0;34m\u001b[0m\u001b[0;34m\u001b[0m\u001b[0m\n\u001b[0m",
      "\u001b[0;31mNameError\u001b[0m: name 'test_dataset' is not defined"
     ]
    }
   ],
   "source": [
    "len(train_dataset[1][0])"
   ]
  },
  {
   "cell_type": "code",
   "execution_count": 0,
   "metadata": {
    "colab": {},
    "colab_type": "code",
    "id": "0dZyIOabWXWn"
   },
   "outputs": [],
   "source": [
    "# Logistic regression model\n",
    "model = LogisticRegressionModel(input_dim, output_dim)\n",
    "#you have to define"
   ]
  },
  {
   "cell_type": "markdown",
   "metadata": {
    "colab_type": "text",
    "id": "tDBQ0LY9WXWq"
   },
   "source": [
    "#######################\n",
    "###  USE GPU FOR MODEL  ##\n",
    "#######################"
   ]
  },
  {
   "cell_type": "code",
   "execution_count": 15,
   "metadata": {
    "colab": {
     "base_uri": "https://localhost:8080/",
     "height": 68
    },
    "colab_type": "code",
    "executionInfo": {
     "elapsed": 11016,
     "status": "ok",
     "timestamp": 1586174221368,
     "user": {
      "displayName": "­김종호 / 학생 / 자유전공학부",
      "photoUrl": "",
      "userId": "12944700398412949033"
     },
     "user_tz": -540
    },
    "id": "23lFTR5JWXWq",
    "outputId": "65b75010-4f18-4131-dd8e-7648f1553dcc"
   },
   "outputs": [
    {
     "data": {
      "text/plain": [
       "LogisticRegressionModel(\n",
       "  (linear): Linear(in_features=8, out_features=2, bias=True)\n",
       ")"
      ]
     },
     "execution_count": 15,
     "metadata": {
      "tags": []
     },
     "output_type": "execute_result"
    }
   ],
   "source": [
    "device = torch.device(\"cuda:0\" if torch.cuda.is_available() else \"cpu\") ##GPU\n",
    "model.to(device)   ##GPU"
   ]
  },
  {
   "cell_type": "markdown",
   "metadata": {
    "colab_type": "text",
    "id": "qDd_Q4RwWXWs"
   },
   "source": [
    "## STEP 5: INSTANTIATE LOSS CLASS"
   ]
  },
  {
   "cell_type": "code",
   "execution_count": 0,
   "metadata": {
    "colab": {},
    "colab_type": "code",
    "id": "3J5HRsmqWXWs"
   },
   "outputs": [],
   "source": [
    "criterion = nn.CrossEntropyLoss()  "
   ]
  },
  {
   "cell_type": "markdown",
   "metadata": {
    "colab_type": "text",
    "id": "xaeiS2tUWXWu"
   },
   "source": [
    "## STEP 6: INSTANTIATE OPTIMIZER CLASS"
   ]
  },
  {
   "cell_type": "code",
   "execution_count": 0,
   "metadata": {
    "colab": {},
    "colab_type": "code",
    "id": "HaWfLMynWXWu"
   },
   "outputs": [],
   "source": [
    "learning_rate = 0.001\n",
    "\n",
    "optimizer = torch.optim.SGD(model.parameters(), lr=learning_rate)   # you have to define\n"
   ]
  },
  {
   "cell_type": "markdown",
   "metadata": {
    "colab_type": "text",
    "id": "cnM7TsqVWXWw"
   },
   "source": [
    "## STEP 7: TRAIN THE MODEL"
   ]
  },
  {
   "cell_type": "code",
   "execution_count": 18,
   "metadata": {
    "colab": {
     "base_uri": "https://localhost:8080/",
     "height": 459
    },
    "colab_type": "code",
    "executionInfo": {
     "elapsed": 10733,
     "status": "ok",
     "timestamp": 1586174221692,
     "user": {
      "displayName": "­김종호 / 학생 / 자유전공학부",
      "photoUrl": "",
      "userId": "12944700398412949033"
     },
     "user_tz": -540
    },
    "id": "vuhDdTfZWXWx",
    "outputId": "91700263-526a-49d0-9de0-e54605bc02ac"
   },
   "outputs": [
    {
     "name": "stdout",
     "output_type": "stream",
     "text": [
      "Iteration: 10. Loss: 5.2806243896484375. Accuracy: 45.76271186440678\n",
      "Iteration: 20. Loss: 0.23060913383960724. Accuracy: 54.23728813559322\n",
      "Iteration: 30. Loss: 5.313769340515137. Accuracy: 61.016949152542374\n",
      "Iteration: 40. Loss: 7.325562953948975. Accuracy: 44.067796610169495\n",
      "Iteration: 50. Loss: 3.047623872756958. Accuracy: 62.71186440677966\n",
      "Iteration: 60. Loss: 3.764162063598633. Accuracy: 65.2542372881356\n",
      "Iteration: 70. Loss: 7.805091857910156. Accuracy: 61.86440677966102\n",
      "Iteration: 80. Loss: 4.9595537185668945. Accuracy: 62.71186440677966\n",
      "Iteration: 90. Loss: 14.393163681030273. Accuracy: 39.83050847457627\n",
      "Iteration: 100. Loss: 3.852177381515503. Accuracy: 62.71186440677966\n",
      "Iteration: 110. Loss: 6.071717262268066. Accuracy: 46.610169491525426\n",
      "Iteration: 120. Loss: 4.840475082397461. Accuracy: 62.71186440677966\n",
      "Iteration: 130. Loss: 17.336349487304688. Accuracy: 61.86440677966102\n",
      "Iteration: 140. Loss: 4.39025354385376. Accuracy: 45.76271186440678\n",
      "Iteration: 150. Loss: 0.7264728546142578. Accuracy: 57.6271186440678\n",
      "Iteration: 160. Loss: 2.711463689804077. Accuracy: 63.559322033898304\n",
      "Iteration: 170. Loss: 10.06477165222168. Accuracy: 38.983050847457626\n",
      "Iteration: 180. Loss: 7.088231563568115. Accuracy: 50.0\n",
      "Iteration: 190. Loss: 10.008232116699219. Accuracy: 43.220338983050844\n",
      "Iteration: 200. Loss: 7.90146017074585. Accuracy: 44.91525423728814\n",
      "Iteration: 210. Loss: 3.804378032684326. Accuracy: 61.86440677966102\n",
      "Iteration: 220. Loss: 11.315030097961426. Accuracy: 49.152542372881356\n",
      "Iteration: 230. Loss: 11.34793758392334. Accuracy: 62.71186440677966\n",
      "Iteration: 240. Loss: 0.8897339105606079. Accuracy: 61.86440677966102\n",
      "Iteration: 250. Loss: 3.397042751312256. Accuracy: 40.67796610169491\n",
      "Iteration: 260. Loss: 4.908668041229248. Accuracy: 38.13559322033898\n"
     ]
    }
   ],
   "source": [
    "iter = 0\n",
    "for epoch in range(num_epochs):\n",
    "    for i, (images, labels) in enumerate(train_loader):\n",
    "        images = images.view(-1, 8).requires_grad_().to(device)  ##GPU\n",
    "        labels = labels.to(device)  ##GPU\n",
    "      \n",
    "        optimizer.zero_grad()\n",
    "      \n",
    "        outputs = model(images)\n",
    "      \n",
    "        loss = criterion(outputs, labels)\n",
    "        \n",
    "        loss.backward()\n",
    "        \n",
    "        optimizer.step()\n",
    "        \n",
    "        iter += 1\n",
    "        \n",
    "        if iter % 10 == 0:\n",
    "            correct = 0\n",
    "            total = 0\n",
    "            for images, labels in test_loader:\n",
    "                images = images.view(-1, 8).to(device)   ##GPU\n",
    "                \n",
    "                outputs = model(images)\n",
    "                \n",
    "                _, predicted = torch.max(outputs.data, 1)\n",
    "                \n",
    "                total += labels.size(0)\n",
    "                \n",
    "                if torch.cuda.is_available():\n",
    "                    correct += (predicted.cpu() == labels.cpu()).sum() #gpu\n",
    "                else:\n",
    "                    correct += (predicted == labels).sum()\n",
    "            \n",
    "            accuracy = 100 * correct.item() / total\n",
    "            \n",
    "            print('Iteration: {}. Loss: {}. Accuracy: {}'.format(iter, loss.item(), accuracy))"
   ]
  },
  {
   "cell_type": "code",
   "execution_count": 0,
   "metadata": {
    "colab": {},
    "colab_type": "code",
    "id": "fPagd_D1WXWz"
   },
   "outputs": [],
   "source": [
    "# Save the model checkpoint\n",
    "torch.save(model.state_dict(), 'model.ckpt')"
   ]
  },
  {
   "cell_type": "code",
   "execution_count": 0,
   "metadata": {
    "colab": {},
    "colab_type": "code",
    "id": "3cyco-gEBDgh"
   },
   "outputs": [],
   "source": []
  }
 ],
 "metadata": {
  "accelerator": "GPU",
  "colab": {
   "collapsed_sections": [],
   "name": "Hw1_2016_12670.ipynb",
   "provenance": []
  },
  "kernelspec": {
   "display_name": "Python 3",
   "language": "python",
   "name": "python3"
  },
  "language_info": {
   "codemirror_mode": {
    "name": "ipython",
    "version": 3
   },
   "file_extension": ".py",
   "mimetype": "text/x-python",
   "name": "python",
   "nbconvert_exporter": "python",
   "pygments_lexer": "ipython3",
   "version": "3.7.6"
  }
 },
 "nbformat": 4,
 "nbformat_minor": 1
}
